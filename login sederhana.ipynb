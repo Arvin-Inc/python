{
  "nbformat": 4,
  "nbformat_minor": 0,
  "metadata": {
    "colab": {
      "provenance": [],
      "authorship_tag": "ABX9TyO7GRUyEw/DWT+HY+0yAPl0",
      "include_colab_link": true
    },
    "kernelspec": {
      "name": "python3",
      "display_name": "Python 3"
    },
    "language_info": {
      "name": "python"
    }
  },
  "cells": [
    {
      "cell_type": "markdown",
      "metadata": {
        "id": "view-in-github",
        "colab_type": "text"
      },
      "source": [
        "<a href=\"https://colab.research.google.com/github/Arvin-Inc/python/blob/main/login%20sederhana.ipynb\" target=\"_parent\"><img src=\"https://colab.research.google.com/assets/colab-badge.svg\" alt=\"Open In Colab\"/></a>"
      ]
    },
    {
      "cell_type": "code",
      "execution_count": 3,
      "metadata": {
        "colab": {
          "base_uri": "https://localhost:8080/"
        },
        "id": "p54HZ3NEefol",
        "outputId": "1805759c-9aac-43c9-c60d-e0258528db20"
      },
      "outputs": [
        {
          "output_type": "stream",
          "name": "stdout",
          "text": [
            "Masukkan username: arfie\n",
            "Masukkan password: 123\n",
            "Login berhasil! Selamat datang, arfie\n"
          ]
        }
      ],
      "source": [
        "username_benar = \"arfiew\"\n",
        "password_benar = \"123\"\n",
        "\n",
        "for percobaan in range(3):\n",
        "    username = input(\"Masukkan username: \")\n",
        "    password = input(\"Masukkan password: \")\n",
        "\n",
        "    if username == username_benar and password == password_benar:\n",
        "        print(\"Login berhasil! Selamat datang,\", username)\n",
        "        break\n",
        "    else:\n",
        "        print(\"Login gagal! Coba lagi.\")\n",
        "else:\n",
        "    print(\"Kesempatan habis. Akses ditolak.\")\n"
      ]
    }
  ]
}