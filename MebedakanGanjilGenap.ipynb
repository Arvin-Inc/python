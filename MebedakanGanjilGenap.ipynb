{
  "nbformat": 4,
  "nbformat_minor": 0,
  "metadata": {
    "colab": {
      "provenance": [],
      "authorship_tag": "ABX9TyPIYr6ZyBrtq3SQFCSY0CUa",
      "include_colab_link": true
    },
    "kernelspec": {
      "name": "python3",
      "display_name": "Python 3"
    },
    "language_info": {
      "name": "python"
    }
  },
  "cells": [
    {
      "cell_type": "markdown",
      "metadata": {
        "id": "view-in-github",
        "colab_type": "text"
      },
      "source": [
        "<a href=\"https://colab.research.google.com/github/Arvin-Inc/python/blob/main/MebedakanGanjilGenap.ipynb\" target=\"_parent\"><img src=\"https://colab.research.google.com/assets/colab-badge.svg\" alt=\"Open In Colab\"/></a>"
      ]
    },
    {
      "cell_type": "code",
      "execution_count": null,
      "metadata": {
        "id": "J2djyJ8zsLDf"
      },
      "outputs": [],
      "source": [
        "# Inisialisasi list kosong\n",
        "angka_list = []\n",
        "ganjil = []\n",
        "genap = []\n",
        "\n",
        "# Input 10 angka dari user\n",
        "for i in range(10):\n",
        "    angka = int(input(f\"Masukkan angka ke-{i+1}: \"))\n",
        "    angka_list.append(angka)\n",
        "\n",
        "# Pisahkan angka ganjil dan genap\n",
        "for angka in angka_list:\n",
        "    if angka % 2 == 0:\n",
        "        genap.append(angka)\n",
        "    else:\n",
        "        ganjil.append(angka)\n",
        "\n",
        "# Tampilkan hasil\n",
        "print(\"\\nAngka yang dimasukkan:\", angka_list)\n",
        "print(\"Bilangan genap:\", genap)\n",
        "print(\"Bilangan ganjil:\", ganjil)"
      ]
    }
  ]
}