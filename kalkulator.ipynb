{
  "nbformat": 4,
  "nbformat_minor": 0,
  "metadata": {
    "colab": {
      "provenance": [],
      "authorship_tag": "ABX9TyOokMYaWmlabEKodgSeK0sJ",
      "include_colab_link": true
    },
    "kernelspec": {
      "name": "python3",
      "display_name": "Python 3"
    },
    "language_info": {
      "name": "python"
    }
  },
  "cells": [
    {
      "cell_type": "markdown",
      "metadata": {
        "id": "view-in-github",
        "colab_type": "text"
      },
      "source": [
        "<a href=\"https://colab.research.google.com/github/Arvin-Inc/python/blob/main/kalkulator.ipynb\" target=\"_parent\"><img src=\"https://colab.research.google.com/assets/colab-badge.svg\" alt=\"Open In Colab\"/></a>"
      ]
    },
    {
      "cell_type": "code",
      "execution_count": null,
      "metadata": {
        "id": "8Uj5K3lnqbO0"
      },
      "outputs": [],
      "source": [
        "def pertambahan():\n",
        "    a = int(input(\"masukan angka pertama: \"))\n",
        "    b = int(input(\"masukan angka kedua: \"))\n",
        "    hasil = a + b\n",
        "    print(\"\\n===== HASIL PENJUMLAHAN =====\")\n",
        "    print(f\"hasil dari {a} + {b} = {hasil}\")\n",
        "\n",
        "def perkurangan():\n",
        "    a = int(input(\"masukan angka pertama: \"))\n",
        "    b = int(input(\"masukan angka kedua: \"))\n",
        "    hasil = a - b\n",
        "    print(\"\\n===== HASIL PENGURANGAN =====\")\n",
        "    print(f\"hasil dari {a} + {b} = {hasil}\")\n",
        "\n",
        "def perkalian():\n",
        "    a = int(input(\"masukan angka pertama: \"))\n",
        "    b = int(input(\"masukan angka kedua: \"))\n",
        "    hasil = a * b\n",
        "    print(\"\\n===== HASIL PERKALIAN =====\")\n",
        "    print(f\"hasil dari {a} + {b} = {hasil}\")\n",
        "\n",
        "def pembagian():\n",
        "    a = int(input(\"masukan angka pertama: \"))\n",
        "    b = int(input(\"masukan angka kedua: \"))\n",
        "    hasil = a / b\n",
        "    print(\"\\n===== HASIL PEMBAGIAN =====\")\n",
        "    print(f\"hasil dari {a} + {b} = {hasil}\")\n",
        "\n",
        "def pilihan():\n",
        "        while True:\n",
        "            print(\"\\n==== KALKULATOR SEDERHANA ====\")\n",
        "            print(\"1. Tambah\")\n",
        "            print(\"2. Kurang\")\n",
        "            print(\"3. Kali\")\n",
        "            print(\"4. Bagi\")\n",
        "            print(\"5. Keluar\")\n",
        "\n",
        "            pilihan = input(\"pilihan menu (1/2/3/4/5): \")\n",
        "            if pilihan == \"1\":\n",
        "                pertambahan()\n",
        "            elif pilihan == \"2\":\n",
        "                perkurangan()\n",
        "            elif pilihan == \"3\":\n",
        "                perkalian()\n",
        "            elif pilihan == \"4\":\n",
        "                pembagian()\n",
        "            elif pilihan == \"5\":\n",
        "                print(\"Kalkulator selesai. \")\n",
        "                break\n",
        "            else:\n",
        "                print(\"pilihan tidak ada, silahkan coba lagi.!\")\n",
        "# menjalankan program\n",
        "pilihan()"
      ]
    }
  ]
}