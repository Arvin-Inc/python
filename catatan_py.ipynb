{
  "nbformat": 4,
  "nbformat_minor": 0,
  "metadata": {
    "colab": {
      "provenance": [],
      "authorship_tag": "ABX9TyNLoPtYJfhSd7p+u7Om6ToV",
      "include_colab_link": true
    },
    "kernelspec": {
      "name": "python3",
      "display_name": "Python 3"
    },
    "language_info": {
      "name": "python"
    }
  },
  "cells": [
    {
      "cell_type": "markdown",
      "metadata": {
        "id": "view-in-github",
        "colab_type": "text"
      },
      "source": [
        "<a href=\"https://colab.research.google.com/github/Arvin-Inc/python/blob/main/catatan_py.ipynb\" target=\"_parent\"><img src=\"https://colab.research.google.com/assets/colab-badge.svg\" alt=\"Open In Colab\"/></a>"
      ]
    },
    {
      "cell_type": "code",
      "execution_count": 2,
      "metadata": {
        "colab": {
          "base_uri": "https://localhost:8080/"
        },
        "id": "avpTsuJqQNfF",
        "outputId": "10e7b04f-3c73-4c58-eccd-388aa4e96728"
      },
      "outputs": [
        {
          "output_type": "stream",
          "name": "stdout",
          "text": [
            "==== CATATAN HARIAN ====\n",
            "1. Tulis catatan baru\n",
            "2. Lihat semua catatan\n",
            "3. Keluar\n",
            "Pilih menu (1/2/3): 1\n",
            "Tulis catatan kamu: catatan menggunakan python\n",
            "✅ Catatan berhasil disimpan!\n",
            "\n",
            "==== CATATAN HARIAN ====\n",
            "1. Tulis catatan baru\n",
            "2. Lihat semua catatan\n",
            "3. Keluar\n",
            "Pilih menu (1/2/3): 2\n",
            "\n",
            "=== Semua Catatan ===\n",
            "[2025-06-21 06:55]\n",
            "pembelajaran hari ini\n",
            "\n",
            "[2025-06-21 07:35]\n",
            "hallo nama saya arfienade aycia munawar\n",
            "\n",
            "[2025-06-21 07:40]\n",
            "catatan menggunakan python\n",
            "\n",
            "\n",
            "==== CATATAN HARIAN ====\n",
            "1. Tulis catatan baru\n",
            "2. Lihat semua catatan\n",
            "3. Keluar\n",
            "Pilih menu (1/2/3): 3\n",
            "👋 Sampai jumpa!\n"
          ]
        }
      ],
      "source": [
        "import datetime\n",
        "\n",
        "def tulis_catatan():\n",
        "    catatan = input(\"Tulis catatan kamu: \")\n",
        "    waktu = datetime.datetime.now().strftime(\"%Y-%m-%d %H:%M\")\n",
        "\n",
        "    with open(\"diary.txt\", \"a\") as file:\n",
        "        file.write(f\"[{waktu}]\\n{catatan}\\n\\n\")\n",
        "\n",
        "    print(\"✅ Catatan berhasil disimpan!\\n\")\n",
        "\n",
        "def lihat_catatan():\n",
        "    try:\n",
        "        with open(\"diary.txt\", \"r\") as file:\n",
        "            isi = file.read()\n",
        "            if isi.strip() == \"\":\n",
        "                print(\"📂 Belum ada catatan.\\n\")\n",
        "            else:\n",
        "                print(\"\\n=== Semua Catatan ===\")\n",
        "                print(isi)\n",
        "    except FileNotFoundError:\n",
        "        print(\"📁 File diary.txt belum dibuat. Tulis catatan dulu.\\n\")\n",
        "\n",
        "def menu():\n",
        "    while True:\n",
        "        print(\"==== CATATAN HARIAN ====\")\n",
        "        print(\"1. Tulis catatan baru\")\n",
        "        print(\"2. Lihat semua catatan\")\n",
        "        print(\"3. Keluar\")\n",
        "        pilihan = input(\"Pilih menu (1/2/3): \")\n",
        "\n",
        "        if pilihan == \"1\":\n",
        "            tulis_catatan()\n",
        "        elif pilihan == \"2\":\n",
        "            lihat_catatan()\n",
        "        elif pilihan == \"3\":\n",
        "            print(\"👋 Sampai jumpa!\")\n",
        "            break\n",
        "        else:\n",
        "            print(\"⚠️ Pilihan tidak valid, coba lagi.\\n\")\n",
        "\n",
        "# Jalankan program\n",
        "menu()\n"
      ]
    }
  ]
}