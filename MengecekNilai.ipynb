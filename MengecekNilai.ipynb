{
  "nbformat": 4,
  "nbformat_minor": 0,
  "metadata": {
    "colab": {
      "provenance": [],
      "authorship_tag": "ABX9TyNTfKLKzuUAY1XJSBAY1b7f",
      "include_colab_link": true
    },
    "kernelspec": {
      "name": "python3",
      "display_name": "Python 3"
    },
    "language_info": {
      "name": "python"
    }
  },
  "cells": [
    {
      "cell_type": "markdown",
      "metadata": {
        "id": "view-in-github",
        "colab_type": "text"
      },
      "source": [
        "<a href=\"https://colab.research.google.com/github/Arvin-Inc/python/blob/main/MengecekNilai.ipynb\" target=\"_parent\"><img src=\"https://colab.research.google.com/assets/colab-badge.svg\" alt=\"Open In Colab\"/></a>"
      ]
    },
    {
      "cell_type": "code",
      "execution_count": null,
      "metadata": {
        "id": "HK1-a_QxqHS9"
      },
      "outputs": [],
      "source": [
        "nama = input(\"masukan nama : \")\n",
        "nilai = int(input(\"nilai : \"))\n",
        "\n",
        "print(f\"Nama : {nama}\")\n",
        "print(f\"Nilai : {nilai}\")\n",
        "\n",
        "# mengecek nilai\n",
        "if nilai >= 90:\n",
        "    hasil = print(\"Kategori : A (sangat baik)\")\n",
        "elif nilai >= 75:\n",
        "    hasil = print(\"Kategori : B (baik)\")\n",
        "elif nilai >= 60:\n",
        "    hasil = print(\"Kategori : C (cukup)\")\n",
        "else:\n",
        "    print(\"D (Tidak Lulus)\")\n"
      ]
    }
  ]
}