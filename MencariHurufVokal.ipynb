{
  "nbformat": 4,
  "nbformat_minor": 0,
  "metadata": {
    "colab": {
      "provenance": [],
      "authorship_tag": "ABX9TyMhkI/K4RbPuxEo9g21Cc8E",
      "include_colab_link": true
    },
    "kernelspec": {
      "name": "python3",
      "display_name": "Python 3"
    },
    "language_info": {
      "name": "python"
    }
  },
  "cells": [
    {
      "cell_type": "markdown",
      "metadata": {
        "id": "view-in-github",
        "colab_type": "text"
      },
      "source": [
        "<a href=\"https://colab.research.google.com/github/Arvin-Inc/python/blob/main/MencariHurufVokal.ipynb\" target=\"_parent\"><img src=\"https://colab.research.google.com/assets/colab-badge.svg\" alt=\"Open In Colab\"/></a>"
      ]
    },
    {
      "cell_type": "code",
      "execution_count": null,
      "metadata": {
        "id": "OAHRq0YjrgYh"
      },
      "outputs": [],
      "source": [
        "# mengecek huruf vokal a,i,u,e,o\n",
        "\n",
        "kalimat = input(\"masukan kalimat :\")\n",
        "kalimat = kalimat.lower()\n",
        "\n",
        "jumlah_huruf = 0\n",
        "\n",
        "for i in kalimat:\n",
        "    if i in \"aiueo\":\n",
        "        jumlah_huruf += 1\n",
        "\n",
        "print(f\"jumlah huruf vokal : {jumlah_huruf}\")"
      ]
    }
  ]
}